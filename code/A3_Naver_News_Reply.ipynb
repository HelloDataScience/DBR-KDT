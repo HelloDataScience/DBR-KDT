{
 "cells": [
  {
   "cell_type": "markdown",
   "id": "de72aef9",
   "metadata": {},
   "source": [
    "## 네이버 뉴스 댓글 수집 함수 생성\n",
    "\n",
    "- 네이버뉴스 링크가 `https://n.news`로 시작하는 댓글만 수집 가능"
   ]
  },
  {
   "cell_type": "markdown",
   "id": "cb04a2e9-8f1d-4e53-bd90-0b4ded8784fd",
   "metadata": {},
   "source": [
    "### 데이터 준비"
   ]
  },
  {
   "cell_type": "code",
   "execution_count": null,
   "id": "d0d04eaa",
   "metadata": {},
   "outputs": [],
   "source": [
    "# 관련 라이브러리를 호출합니다.\n",
    "import os\n",
    "import pandas as pd\n",
    "import numpy as np\n",
    "import requests\n",
    "from bs4 import BeautifulSoup as BTS\n",
    "import json\n",
    "import re\n",
    "import time\n",
    "from tqdm.notebook import tqdm"
   ]
  },
  {
   "cell_type": "code",
   "execution_count": null,
   "id": "a0e56b9f",
   "metadata": {},
   "outputs": [],
   "source": [
    "# 현재 작업 경로를 확인합니다.\n",
    "os.getcwd()"
   ]
  },
  {
   "cell_type": "code",
   "execution_count": null,
   "id": "ba022230",
   "metadata": {},
   "outputs": [],
   "source": [
    "# data 폴더로 작업 경로를 변경합니다.\n",
    "os.chdir(path = '../data')"
   ]
  },
  {
   "cell_type": "code",
   "execution_count": null,
   "id": "e2466126",
   "metadata": {},
   "outputs": [],
   "source": [
    "# 현재 작업 경로에 있는 폴더명과 파일명을 확인합니다.\n",
    "sorted(os.listdir())"
   ]
  },
  {
   "cell_type": "code",
   "execution_count": null,
   "id": "3ba901a3",
   "metadata": {},
   "outputs": [],
   "source": [
    "# pkl 파일을 읽고 newsLinks를 생성합니다.\n",
    "newsLinks = pd.read_pickle(filepath_or_buffer = 'Naver_News_Link.pkl')"
   ]
  },
  {
   "cell_type": "markdown",
   "id": "914a78ad-eb9f-4088-b4fd-37951cf0b137",
   "metadata": {},
   "source": [
    "### 함수 생성"
   ]
  },
  {
   "cell_type": "code",
   "execution_count": null,
   "id": "5d6cbab2",
   "metadata": {},
   "outputs": [],
   "source": [
    "# 네이버뉴스 링크로 뉴스 댓글 개수 및 목록을 수집하는 함수를 생성합니다.\n",
    "def NaverNewsReply(nlink, pageSize = 100):\n",
    "    \n",
    "    # nlink에 따라 HTTP 요청 실행 및 응답 바디 문자열을 처리하는 코드를 분기합니다.\n",
    "    if 'https://n.news' in nlink:\n",
    "        \n",
    "        # 요청 URL을 설정합니다.\n",
    "        url = 'https://apis.naver.com/commentBox/cbox/web_naver_list_jsonp.json'\n",
    "        \n",
    "        # nlink에서 cid(company id)와 aid(article id)를 추출합니다.\n",
    "        cid = re.findall(pattern = r'(?<=article/)(\\d+)', string = nlink)[0]\n",
    "        aid = re.findall(pattern = r'(?<=\\d/)(\\d+$)', string = nlink)[0]\n",
    "        \n",
    "        # 쿼리 문자열을 설정합니다.\n",
    "        query = {\n",
    "            'ticket': 'news',\n",
    "            'pool': 'cbox5', \n",
    "            'lang': 'ko', \n",
    "            'country': 'KR', \n",
    "            'objectId': f'news{cid},{aid}', \n",
    "            'pageSize': pageSize, \n",
    "            'indexSize': 10, \n",
    "            'listType': 'OBJECT', \n",
    "            'pageType': 'more', \n",
    "            'page': 1, \n",
    "            'sort': 'favorite', \n",
    "            'includeAllStatus': 'true'\n",
    "        }\n",
    "        \n",
    "        # 요청 헤더를 설정합니다.\n",
    "        # [참고] referer에 nlink를 지정합니다.\n",
    "        headers = {\n",
    "            'content-type': 'application/javascript;charset=UTF-8', \n",
    "            'referer': nlink, \n",
    "            'user-agent': 'Mozilla/5.0'\n",
    "        }\n",
    "        \n",
    "        # HTTP 요청을 실행합니다.\n",
    "        res = requests.get(url = url, params = query, headers = headers)\n",
    "        \n",
    "        # HTTP 응답 바디 문자열에서 중괄호 앞에 있는 불필요한 문자열을 삭제합니다.\n",
    "        # [참고] str.replace()는 시리즈 원소에서 지정한 패턴을 변경(또는 삭제)합니다.\n",
    "        text = re.sub(pattern = r'jQuery.+?\\(|_callback\\(|\\);$', repl = '', string = res.text)\n",
    "        \n",
    "        # JSON 형태의 문자열을 딕셔너리로 변환합니다.\n",
    "        dat = json.loads(s = text)\n",
    "        \n",
    "        # 뉴스 댓글 개수를 replyCount에 할당합니다.\n",
    "        replyCount = dat['result']['count']['comment']\n",
    "        \n",
    "        # 뉴스 댓글 개수가 0이면 None으로 결과를 반환합니다.\n",
    "        if replyCount == 0:\n",
    "            return {'replyCount': 0, 'totalPages': 0, 'replyList': None}\n",
    "        \n",
    "        else:\n",
    "            # 뉴스 총 페이지수를 totalPages에 할당합니다.\n",
    "            totalPages = dat['result']['pageModel']['totalPages']\n",
    "            \n",
    "            # 1페이지 뉴스 댓글 목록을 replyPage1에 할당합니다.\n",
    "            replyPage1 = pd.DataFrame(data = dat['result']['commentList'])\n",
    "            \n",
    "            # replyPage1에서 선택할 일부 열이름을 리스트로 생성합니다.\n",
    "            cols = ['objectId', 'commentNo', 'parentCommentNo', 'replyAllCount', 'contents', 'userName', \n",
    "                    'modTime', 'regTime', 'sympathyCount', 'antipathyCount', 'hiddenByCleanbot', 'deleted']\n",
    "            \n",
    "            # 총 페이지수가 1이면 replyPage1을 반환하고 총 페이지수가 2 이상이면 for 반복문을 실행합니다.\n",
    "            if totalPages == 1:\n",
    "                \n",
    "                # 결과를 반환합니다.\n",
    "                return {'replyCount': replyCount, 'totalPages': totalPages, 'replyList': replyPage1[cols]}\n",
    "            \n",
    "            elif totalPages >= 2:\n",
    "                \n",
    "                # 반복문 실행 범위는 총 페이지수에 1을 더한 값으로 설정합니다.\n",
    "                for page in range(2, totalPages + 1):\n",
    "                    \n",
    "                    # 다음 페이지 수집에 필요한 쿼리 문자열을 more에 할당합니다.\n",
    "                    more = dat['result']['morePage']\n",
    "                    \n",
    "                    # 쿼리 문자열을 설정합니다.\n",
    "                    query = {\n",
    "                        'ticket': 'news',\n",
    "                        'pool': 'cbox5', \n",
    "                        'lang': 'ko', \n",
    "                        'country': 'KR', \n",
    "                        'objectId': f'news{cid},{aid}', \n",
    "                        'pageSize': 20, \n",
    "                        'indexSize': 10, \n",
    "                        'listType': 'OBJECT', \n",
    "                        'pageType': 'more', \n",
    "                        'page': page, \n",
    "                        'sort': 'favorite', \n",
    "                        'moreParam.direction': 'next', \n",
    "                        'moreParam.prev': more['prev'], \n",
    "                        'moreParam.next': more['next'], \n",
    "                        'includeAllStatus': 'true'\n",
    "                    }\n",
    "                    \n",
    "                    # HTTP 요청을 실행합니다.\n",
    "                    res = requests.get(url = url, params = query, headers = headers)\n",
    "                    \n",
    "                    # HTTP 응답 바디 문자열에서 중괄호 앞에 있는 불필요한 문자열을 삭제합니다.\n",
    "                    text = re.sub(pattern = r'jQuery.+?\\(|_callback\\(|\\);$', repl = '', string = res.text)\n",
    "                    \n",
    "                    # JSON 형태의 문자열을 딕셔너리로 변환합니다.\n",
    "                    dat = json.loads(s = text)\n",
    "                    \n",
    "                    # 2페이지 이후 뉴스 댓글 목록을 replyPage2에 할당합니다.\n",
    "                    replyPage2 = pd.DataFrame(data = dat['result']['commentList'])\n",
    "                    \n",
    "                    # replyPage2을 replyPage1에 행 방향으로 결합하고 replyPage1에 재할당합니다.\n",
    "                    replyPage1 = pd.concat(objs = [replyPage1, replyPage2], ignore_index = True)\n",
    "                \n",
    "                # 결과를 반환합니다.\n",
    "                return {'replyCount': replyCount, 'totalPages': totalPages, 'replyList': replyPage1[cols]}\n",
    "    \n",
    "    # nlink가 'https://n.news'로 시작하지 않으면 None으로 결과를 반환합니다.\n",
    "    else:\n",
    "        return {'replyCount': 0, 'totalPages': 0, 'replyList': None}"
   ]
  },
  {
   "cell_type": "markdown",
   "id": "31adcd25-7739-4ef3-be55-945fe10cad52",
   "metadata": {},
   "source": [
    "### 데이터 수집"
   ]
  },
  {
   "cell_type": "code",
   "execution_count": null,
   "id": "ef03d0a1",
   "metadata": {},
   "outputs": [],
   "source": [
    "# 경고를 출력하지 않도록 설정합니다.\n",
    "import warnings\n",
    "warnings.filterwarnings(action = 'ignore')"
   ]
  },
  {
   "cell_type": "code",
   "execution_count": null,
   "id": "204f2863",
   "metadata": {},
   "outputs": [],
   "source": [
    "# 반복 실행할 횟수를 n에 할당합니다.\n",
    "n = len(newsLinks)\n",
    "\n",
    "# 뉴스 댓글 개수를 저장할 시리즈를 생성합니다.\n",
    "newsRpCnt = pd.Series(data = [np.nan] * n, dtype = float)\n",
    "\n",
    "# 뉴스 댓글 본문을 저장할 빈 데이터프레임을 생성합니다.\n",
    "newsReply = pd.DataFrame()\n",
    "\n",
    "# for 반복문으로 네이버뉴스 댓글 개수 및 목록을 수집합니다.\n",
    "for i in tqdm(range(n)):\n",
    "    \n",
    "    # 반복문 실행 도중 에러가 발생하면 다음 원소(링크)로 건너뛰도록 설정합니다.\n",
    "    try:\n",
    "        \n",
    "        # 네이버뉴스 링크로 뉴스 댓글 개수 및 목록을 수집하는 함수를 실행하고 result에 할당합니다.\n",
    "        result = NaverNewsReply(nlink = newsLinks.iloc[i])\n",
    "        \n",
    "        # 뉴스 댓글 개수를 수집하고 newsRpCnt에 i번째 원소로 할당합니다.\n",
    "        newsRpCnt.iloc[i] = result['replyCount']\n",
    "        \n",
    "        # 뉴스 댓글 개수가 1 이상이면 newsReply에 행 방향으로 추가하고 0이면 다음 원소(링크)를 실행합니다.\n",
    "        if result['replyCount'] >= 1:\n",
    "            \n",
    "            # 뉴스 댓글 목록을 수집하고 newsReply에 행 방향으로 추가합니다.\n",
    "            newsReply = pd.concat(objs = [newsReply, result['replyList']], ignore_index = True)\n",
    "        \n",
    "        else:\n",
    "            pass\n",
    "\n",
    "    # 반복문 실행 도중 에러가 발생하면 다음 원소(링크)로 건너뜁니다.\n",
    "    except:\n",
    "        next\n",
    "    \n",
    "    # 1초간 멈춥니다.\n",
    "    time.sleep(1)"
   ]
  },
  {
   "cell_type": "code",
   "execution_count": null,
   "id": "12ce2bfa",
   "metadata": {},
   "outputs": [],
   "source": [
    "# newsRpCnt의 처음 5행을 확인합니다.\n",
    "newsRpCnt.head()"
   ]
  },
  {
   "cell_type": "code",
   "execution_count": null,
   "id": "38f6bb6e",
   "metadata": {
    "scrolled": true
   },
   "outputs": [],
   "source": [
    "# newsReply의 처음 10행을 확인합니다.\n",
    "newsReply.head(n = 10)"
   ]
  },
  {
   "cell_type": "code",
   "execution_count": null,
   "id": "b800b045",
   "metadata": {},
   "outputs": [],
   "source": [
    "# newsReply의 정보 확인\n",
    "newsReply.info()"
   ]
  },
  {
   "cell_type": "markdown",
   "id": "700902dd-31cf-4cd4-abda-8bfe3755194f",
   "metadata": {},
   "source": [
    "### 외부 파일로 저장"
   ]
  },
  {
   "cell_type": "code",
   "execution_count": null,
   "id": "8d160db5",
   "metadata": {},
   "outputs": [],
   "source": [
    "# 현재 작업 경로를 확인합니다.\n",
    "os.getcwd()"
   ]
  },
  {
   "cell_type": "code",
   "execution_count": null,
   "id": "9281a52a",
   "metadata": {},
   "outputs": [],
   "source": [
    "# newsRpCnt를 pkl 파일로 저장합니다.\n",
    "pd.to_pickle(obj = newsRpCnt, filepath_or_buffer = 'Naver_News_ReCnt.pkl')"
   ]
  },
  {
   "cell_type": "code",
   "execution_count": null,
   "id": "f7cba188-f873-477e-90d3-29154327da29",
   "metadata": {},
   "outputs": [],
   "source": [
    "# newsReply를 pkl 파일로 저장합니다.\n",
    "pd.to_pickle(obj = newsReply, filepath_or_buffer = 'Naver_News_Reply.pkl')"
   ]
  },
  {
   "cell_type": "code",
   "execution_count": null,
   "id": "549154ff",
   "metadata": {},
   "outputs": [],
   "source": [
    "# 현재 작업 경로에 있는 폴더명과 파일명을 확인합니다.\n",
    "sorted(os.listdir())"
   ]
  },
  {
   "cell_type": "markdown",
   "id": "04ad323c",
   "metadata": {},
   "source": [
    "## End of Document"
   ]
  }
 ],
 "metadata": {
  "kernelspec": {
   "display_name": "Python 3 (ipykernel)",
   "language": "python",
   "name": "python3"
  },
  "language_info": {
   "codemirror_mode": {
    "name": "ipython",
    "version": 3
   },
   "file_extension": ".py",
   "mimetype": "text/x-python",
   "name": "python",
   "nbconvert_exporter": "python",
   "pygments_lexer": "ipython3",
   "version": "3.11.10"
  },
  "varInspector": {
   "cols": {
    "lenName": 16,
    "lenType": 16,
    "lenVar": 40
   },
   "kernels_config": {
    "python": {
     "delete_cmd_postfix": "",
     "delete_cmd_prefix": "del ",
     "library": "var_list.py",
     "varRefreshCmd": "print(var_dic_list())"
    },
    "r": {
     "delete_cmd_postfix": ") ",
     "delete_cmd_prefix": "rm(",
     "library": "var_list.r",
     "varRefreshCmd": "cat(var_dic_list()) "
    }
   },
   "types_to_exclude": [
    "module",
    "function",
    "builtin_function_or_method",
    "instance",
    "_Feature"
   ],
   "window_display": false
  }
 },
 "nbformat": 4,
 "nbformat_minor": 5
}
