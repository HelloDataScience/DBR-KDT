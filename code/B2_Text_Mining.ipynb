{
 "cells": [
  {
   "cell_type": "markdown",
   "id": "30426dd8-3a58-449d-9110-0bfcb0fa0224",
   "metadata": {},
   "source": [
    "## 텍스트 마이닝"
   ]
  },
  {
   "cell_type": "markdown",
   "id": "564e014a-9148-47cd-8240-facfe7385820",
   "metadata": {},
   "source": [
    "### 데이터 준비"
   ]
  },
  {
   "cell_type": "code",
   "execution_count": null,
   "id": "20a5e3e7-e1aa-415e-9fcc-0eaac76b4b76",
   "metadata": {},
   "outputs": [],
   "source": [
    "# 관련 라이브러리를 호출합니다.\n",
    "import os\n",
    "import numpy as np\n",
    "import pandas as pd\n",
    "from kiwipiepy import Kiwi\n",
    "from kiwipiepy.utils import Stopwords\n",
    "from tqdm.notebook import tqdm\n",
    "from nltk import bigrams\n",
    "from sklearn.feature_extraction.text import CountVectorizer\n",
    "from sklearn.feature_extraction.text import TfidfVectorizer"
   ]
  },
  {
   "cell_type": "code",
   "execution_count": null,
   "id": "337f5186-931a-46b0-95fb-5e0247d53f77",
   "metadata": {},
   "outputs": [],
   "source": [
    "# 현재 작업 경로를 확인합니다.\n",
    "os.getcwd()"
   ]
  },
  {
   "cell_type": "code",
   "execution_count": null,
   "id": "3c244b1d-4fd7-4dca-89ee-64f54b547ce2",
   "metadata": {},
   "outputs": [],
   "source": [
    "# data 폴더로 작업 경로를 변경합니다.\n",
    "os.chdir(path = '../data')"
   ]
  },
  {
   "cell_type": "code",
   "execution_count": null,
   "id": "1bec2849-fcd6-4a1a-8276-7a5edc73bffb",
   "metadata": {},
   "outputs": [],
   "source": [
    "# 현재 작업 경로에 있는 폴더명과 파일명을 확인합니다.\n",
    "sorted(os.listdir())"
   ]
  },
  {
   "cell_type": "code",
   "execution_count": null,
   "id": "4ebe1dd2-bcec-45d1-a17a-f557581d3c02",
   "metadata": {},
   "outputs": [],
   "source": [
    "# pkl 파일을 읽고 newsReply를 생성합니다.\n",
    "newsReply = pd.read_pickle(filepath_or_buffer = 'Naver_News_Reply.pkl')"
   ]
  },
  {
   "cell_type": "code",
   "execution_count": null,
   "id": "67869bd1-25df-4043-b0d1-74cb77ebc0bb",
   "metadata": {},
   "outputs": [],
   "source": [
    "# newsReply의 처음 5행을 확인합니다.\n",
    "newsReply.head()"
   ]
  },
  {
   "cell_type": "code",
   "execution_count": null,
   "id": "838238ce-ea7f-4ae5-ac03-f2cd09493c99",
   "metadata": {},
   "outputs": [],
   "source": [
    "# newsReply에서 contents의 글자수가 1 이상인 행을 남기고 행이름을 초기화합니다.\n",
    "newsReply = newsReply.loc[newsReply['contents'].str.len().ge(other = 1), :].reset_index(drop = True)"
   ]
  },
  {
   "cell_type": "code",
   "execution_count": null,
   "id": "eb3c4fb1-dffa-434c-a312-9b2e7e30b1f0",
   "metadata": {},
   "outputs": [],
   "source": [
    "# newsReply에서 corrected를 선택하고 처음 10행을 출력합니다.\n",
    "for i in range(10):\n",
    "    print(f'{i}: {newsReply[\"corrected\"].iloc[i]}', end = '\\n\\n')"
   ]
  },
  {
   "cell_type": "code",
   "execution_count": null,
   "id": "c64e6863-e568-4885-ba68-0c3820f49a92",
   "metadata": {},
   "outputs": [],
   "source": [
    "# 교정되지 않은 오탈자를 수작업으로 교정합니다.\n",
    "newsReply['corrected'] = newsReply['corrected'].str.replace(pat = '성깔 부리고', repl = '성질부리고')\n",
    "newsReply['corrected'] = newsReply['corrected'].str.replace(pat = '안 달', repl = '안달')\n",
    "newsReply['corrected'] = newsReply['corrected'].str.replace(pat = '마녀 사냥', repl = '마녀사냥')\n",
    "newsReply['corrected'] = newsReply['corrected'].str.replace(pat = '악위적', repl = '악의적')\n",
    "newsReply['corrected'] = newsReply['corrected'].str.replace(pat = '쇄락', repl = '추락')\n",
    "newsReply['corrected'] = newsReply['corrected'].str.replace(pat = '모른 행사장', repl = '모든 행사장')\n",
    "newsReply['corrected'] = newsReply['corrected'].str.replace(pat = '기웃거다', repl = '기웃거리다')\n",
    "newsReply['corrected'] = newsReply['corrected'].str.replace(pat = '업무 방해', repl = '업무방해')"
   ]
  },
  {
   "cell_type": "markdown",
   "id": "1958cb3f-da9b-49f2-bb25-031c6e6f675c",
   "metadata": {},
   "source": [
    "### 형태소 분석"
   ]
  },
  {
   "cell_type": "code",
   "execution_count": null,
   "id": "67e3de2d-fbe6-44c8-9b5f-c0a7a4d8175a",
   "metadata": {},
   "outputs": [],
   "source": [
    "# 한글 형태소 분석기 객체를 생성합니다.\n",
    "kiwi = Kiwi(model_type = 'sbg', typos = 'basic_with_continual_and_lengthening')"
   ]
  },
  {
   "cell_type": "code",
   "execution_count": null,
   "id": "69b79af2-f530-467c-a42a-4d55240ade1c",
   "metadata": {},
   "outputs": [],
   "source": [
    "# 한글 맞춤법 검사 결과를 corrected에 할당합니다.\n",
    "corrected = '복리후생으로 워라벨부터 챙기자.'"
   ]
  },
  {
   "cell_type": "code",
   "execution_count": null,
   "id": "25caaf3d-49ca-4b92-8a37-165b12aaabb1",
   "metadata": {},
   "outputs": [],
   "source": [
    "# corrected로 형태소 분석을 실행한 결과를 확인합니다.\n",
    "kiwi.tokenize(text = corrected)"
   ]
  },
  {
   "cell_type": "markdown",
   "id": "63be9d25-57ea-435c-b555-e33ac6437551",
   "metadata": {},
   "source": [
    "### 불용어 삭제"
   ]
  },
  {
   "cell_type": "code",
   "execution_count": null,
   "id": "e7ecdc71-ed55-484c-b810-831c9b115391",
   "metadata": {},
   "outputs": [],
   "source": [
    "# 내장 불용어 객체를 생성합니다.\n",
    "stopwords = Stopwords()"
   ]
  },
  {
   "cell_type": "code",
   "execution_count": null,
   "id": "1639449d-1e77-41ca-9b66-013fc681dcbe",
   "metadata": {
    "scrolled": true
   },
   "outputs": [],
   "source": [
    "# 내장 불용어 목록을 확인합니다.\n",
    "stopwords.stopwords"
   ]
  },
  {
   "cell_type": "code",
   "execution_count": null,
   "id": "004e7872-42c6-4ae3-9373-d917290690bc",
   "metadata": {},
   "outputs": [],
   "source": [
    "# 형태소 분석을 실행하고 불용어를 삭제한 결과를 확인합니다.\n",
    "kiwi.tokenize(text = corrected, stopwords = stopwords)"
   ]
  },
  {
   "cell_type": "markdown",
   "id": "f0c91dda-6d43-48f8-b263-9c4050f9b623",
   "metadata": {},
   "source": [
    "### 사용자 사전 추가"
   ]
  },
  {
   "cell_type": "code",
   "execution_count": null,
   "id": "73b3c7dc-1737-4c94-b2b0-c9690e2a502d",
   "metadata": {},
   "outputs": [],
   "source": [
    "# 사용자 사전에 새로운 단어를 추가합니다.\n",
    "kiwi.add_user_word(word = '복리후생', tag = 'NNG', score = 1)"
   ]
  },
  {
   "cell_type": "code",
   "execution_count": null,
   "id": "236b9b74-2cb6-4b7b-9c7d-eb46a09d7646",
   "metadata": {},
   "outputs": [],
   "source": [
    "# 사용자 사전을 적용하여 형태소 분석을 실행하고 불용어를 제거합니다.\n",
    "tokens = kiwi.tokenize(text = corrected, stopwords = stopwords)"
   ]
  },
  {
   "cell_type": "code",
   "execution_count": null,
   "id": "63a9d5e0-68c7-4c2d-bc85-8dac30d4298c",
   "metadata": {},
   "outputs": [],
   "source": [
    "# tokens(형태소 분석 결과)를 확인합니다.\n",
    "tokens"
   ]
  },
  {
   "cell_type": "code",
   "execution_count": null,
   "id": "6827094d-dd7a-483c-b630-326e4fbb08cb",
   "metadata": {},
   "outputs": [],
   "source": [
    "# 첫 번째 형태소의 단어와 품사를 확인합니다.\n",
    "tokens[0].form, tokens[0].tag"
   ]
  },
  {
   "cell_type": "markdown",
   "id": "afa9a178-03ff-4a45-84ce-494dfa22d5e8",
   "metadata": {},
   "source": [
    "### 품사 선택"
   ]
  },
  {
   "cell_type": "code",
   "execution_count": null,
   "id": "4128da58-d897-4dd8-90b1-6a1303eed2a0",
   "metadata": {},
   "outputs": [],
   "source": [
    "# 형태소 분석 결과에서 선택할 품사(용언과 체언) 목록을 리스트로 생성합니다.\n",
    "tag_v, tag_n = ['VV', 'VV-R', 'VV-I', 'VA', 'VA-R', 'VA-I'], ['NNG', 'NNP']"
   ]
  },
  {
   "cell_type": "code",
   "execution_count": null,
   "id": "87e14f0a-de91-4fa6-9017-c1347485370e",
   "metadata": {},
   "outputs": [],
   "source": [
    "# 품사가 용언과 체언인 형태소만 선택하고, 품사가 용언일 때 종결어미 '다'를 결합합니다.\n",
    "[token.form + '다' if token.tag in tag_v else token.form \n",
    " for token in tokens if token.tag in tag_v + tag_n]"
   ]
  },
  {
   "cell_type": "markdown",
   "id": "48bfdcde-7736-48eb-b697-5da9c1c05575",
   "metadata": {},
   "source": [
    "### 형태소 분석 함수 생성"
   ]
  },
  {
   "cell_type": "code",
   "execution_count": null,
   "id": "934272b5-fbf7-452d-9362-d48ae12258b9",
   "metadata": {},
   "outputs": [],
   "source": [
    "# 문서를 입력받아 형태소 분석을 실행하고 리스트로 반환하는 함수를 생성합니다.\n",
    "def tokenizer(text):\n",
    "    tokens = kiwi.tokenize(text = text, stopwords = stopwords)\n",
    "    return [token.form + '다' if token.tag in tag_v else token.form\n",
    "            for token in tokens if token.tag in tag_v + tag_n]"
   ]
  },
  {
   "cell_type": "markdown",
   "id": "c91a33f9-38cd-4845-b489-cf146c57274a",
   "metadata": {},
   "source": [
    "### BoW 생성: 문서 집합으로 형태소 분석 실행"
   ]
  },
  {
   "cell_type": "code",
   "execution_count": null,
   "id": "fa131353-5007-42c8-bca5-1facfecd1f35",
   "metadata": {},
   "outputs": [],
   "source": [
    "# 형태소 분석 결과를 저장할 빈 리스트를 생성합니다.\n",
    "morphs = []\n",
    "\n",
    "# 문서 집합에서 각 문서를 형태소로 나누고 일부 품사를 남긴 morphs를 생성합니다.\n",
    "for corrected in tqdm(newsReply['corrected']):\n",
    "    tokens = tokenizer(text = corrected)\n",
    "    morphs.append(tokens)"
   ]
  },
  {
   "cell_type": "markdown",
   "id": "de817d06-b1a0-42da-9ebf-21b659abf067",
   "metadata": {},
   "source": [
    "### BoW 확인: 사용자 사전에 추가할 단어 탐색"
   ]
  },
  {
   "cell_type": "code",
   "execution_count": null,
   "id": "3d96677b-02fd-4572-a54d-34cbcca5d0bd",
   "metadata": {},
   "outputs": [],
   "source": [
    "# 한글 맞춤법 검사를 실행한 문서와 형태소 분석 결과를 비교합니다.\n",
    "for i in range(10):\n",
    "    print(f'{i}: {newsReply[\"corrected\"].iloc[i]}')\n",
    "    print(f'{i}: {morphs[i]}', end = '\\n\\n')"
   ]
  },
  {
   "cell_type": "markdown",
   "id": "1999f463-04ce-423b-a42c-0ae2a1a6a617",
   "metadata": {},
   "source": [
    "### 사용자 사전용 텍스트 파일 생성 및 읽기"
   ]
  },
  {
   "cell_type": "code",
   "execution_count": null,
   "id": "25def13b-b25f-4556-a652-c2c9e2b47ea4",
   "metadata": {},
   "outputs": [],
   "source": [
    "# 사용자 사전에 추가할 단어 목록과 단어의 품사 및 점수를 각각 리스트로 생성합니다.\n",
    "words = ['악의적', '비위생', '대박', '업무방해', '자발적', '더본코리아']\n",
    "tags = ['NNG'] * 5 + ['NNP']\n",
    "scores = [1] * 6"
   ]
  },
  {
   "cell_type": "code",
   "execution_count": null,
   "id": "0a4b2bb0-b469-499a-adc3-75ae334365a3",
   "metadata": {},
   "outputs": [],
   "source": [
    "# 사용자 사전 파일명을 지정합니다.\n",
    "dict_file = 'User_Dictionary.txt'"
   ]
  },
  {
   "cell_type": "code",
   "execution_count": null,
   "id": "df016e7a-dcc2-40bb-815c-b806302cf3f8",
   "metadata": {},
   "outputs": [],
   "source": [
    "# 사용자 사전을 텍스트 파일로 저장합니다.\n",
    "# [참고] 단어, 품사, 점수 사이에 구분자(탭)를 설정하고 문장 마지막에 개행문자를 추가합니다.\n",
    "with open(file = dict_file, mode = 'w') as file:\n",
    "    for word, tag, score in zip(words, tags, scores):\n",
    "        file.write(f'{word}\\t{tag}\\t{score}\\n')"
   ]
  },
  {
   "cell_type": "code",
   "execution_count": null,
   "id": "cdbe3fc9-39be-4ac1-80bb-db554f410efa",
   "metadata": {},
   "outputs": [],
   "source": [
    "# 사용자 사전에 등록할 텍스트 파일을 읽습니다.\n",
    "kiwi.load_user_dictionary(dict_path = dict_file)"
   ]
  },
  {
   "cell_type": "markdown",
   "id": "8e104bce-772b-4eae-9222-41cf76966cd7",
   "metadata": {},
   "source": [
    "### BoW 생성: 사용자 사전 적용하여 형태소 분석 실행"
   ]
  },
  {
   "cell_type": "code",
   "execution_count": null,
   "id": "684c3d99-e11d-4916-854b-6ea0be5ebf80",
   "metadata": {},
   "outputs": [],
   "source": [
    "# 형태소 분석 결과를 저장할 빈 리스트를 생성합니다.\n",
    "morphs = []\n",
    "\n",
    "# 사용자 사전을 적용하여 문서 집합으로 형태소 분석을 실행하고 morphs를 생성합니다.\n",
    "for corrected in tqdm(newsReply['corrected']):\n",
    "    tokens = tokenizer(text = corrected)\n",
    "    morphs.append(tokens)"
   ]
  },
  {
   "cell_type": "code",
   "execution_count": null,
   "id": "faa2ad0a-c8c1-460c-9490-40f1c9d2f9fb",
   "metadata": {},
   "outputs": [],
   "source": [
    "# morphs(형태소로 나눈 문서 집합)의 처음 10개 원소를 확인합니다.\n",
    "for i in range(10):\n",
    "    print(f'{i}: {newsReply[\"corrected\"].iloc[i]}')\n",
    "    print(f'{i}: {morphs[i]}', end = '\\n\\n')"
   ]
  },
  {
   "cell_type": "markdown",
   "id": "5215975e-c13c-4cbe-bfd2-eb7c3b073c3c",
   "metadata": {},
   "source": [
    "### 바이그램 생성"
   ]
  },
  {
   "cell_type": "code",
   "execution_count": null,
   "id": "5278c0c8-660e-4873-8996-2148af5d6339",
   "metadata": {},
   "outputs": [],
   "source": [
    "# morphs의 첫 번째 원소에서 연속하는 두 단어를 튜플로 묶은 bg(바이그램)를 생성합니다.\n",
    "bg = bigrams(sequence = morphs[0])"
   ]
  },
  {
   "cell_type": "code",
   "execution_count": null,
   "id": "40e6afdf-e830-44b3-94e6-a3507a9b2666",
   "metadata": {},
   "outputs": [],
   "source": [
    "# bg(바이그램)를 리스트로 변환하여 결과를 확인합니다.\n",
    "list(bg)"
   ]
  },
  {
   "cell_type": "code",
   "execution_count": null,
   "id": "7da03aab-feeb-412b-9111-c248d8168a59",
   "metadata": {},
   "outputs": [],
   "source": [
    "# bg(바이그램)를 저장할 빈 리스트를 생성합니다.\n",
    "bgs = []\n",
    "\n",
    "# morphs에서 연속하는 두 단어를 묶은 튜플을 bgs에 결합합니다.\n",
    "for i in range(len(morphs)):\n",
    "    bg = bigrams(sequence = morphs[i])\n",
    "    bgs += list(bg)"
   ]
  },
  {
   "cell_type": "code",
   "execution_count": null,
   "id": "faf8cdf8-77b3-4542-8ed9-b54c5ea8c4f1",
   "metadata": {
    "scrolled": true
   },
   "outputs": [],
   "source": [
    "# bgs(바이그램을 저장한 리스트)를 확인합니다.\n",
    "bgs"
   ]
  },
  {
   "cell_type": "code",
   "execution_count": null,
   "id": "ec536832-5fc0-4b0c-94ba-146e61ae8675",
   "metadata": {},
   "outputs": [],
   "source": [
    "# bgs를 시리즈로 변환하여 원소별 도수를 계산하고 처음 20개를 확인합니다.\n",
    "pd.Series(data = bgs).value_counts().head(n = 20)"
   ]
  },
  {
   "cell_type": "markdown",
   "id": "231ccca0-5367-4c66-aada-f40fed2f9803",
   "metadata": {},
   "source": [
    "### 바이그램의 일부 단어를 포함하는 문서 인덱스 확인"
   ]
  },
  {
   "cell_type": "code",
   "execution_count": null,
   "id": "4ce1d736-a6f6-46dd-a609-160eb6717abb",
   "metadata": {},
   "outputs": [],
   "source": [
    "# 사용자 사전에 추가할 단어를 포함하면 True, 그렇지 않으면 False인 cond를 생성합니다.\n",
    "cond = newsReply['corrected'].str.contains(pat = '골목식당|문어발|빽다방|골목상권|홍콩반점|빽햄')"
   ]
  },
  {
   "cell_type": "code",
   "execution_count": null,
   "id": "ac9b28fc-ad62-4033-abcd-e1ec32a01428",
   "metadata": {
    "scrolled": true
   },
   "outputs": [],
   "source": [
    "# 사용자 사전에 추가할 단어를 포함하는 문서의 인덱스를 확인합니다.\n",
    "indices = np.where(cond)[0]\n",
    "print(indices)"
   ]
  },
  {
   "cell_type": "code",
   "execution_count": null,
   "id": "d1100803-8093-4b9e-80ed-84bdcff68e42",
   "metadata": {},
   "outputs": [],
   "source": [
    "# newsReply corrected에서 indices에 해당하는 문서를 확인합니다.\n",
    "for i in indices[0:10]:\n",
    "    print(f'{i}: {newsReply[\"corrected\"].iloc[i]}')\n",
    "    print(f'{i}: {morphs[i]}', end = '\\n\\n')"
   ]
  },
  {
   "cell_type": "markdown",
   "id": "ccf64489-e3c3-490f-b718-82b7f224965f",
   "metadata": {},
   "source": [
    "### 사용자 사전용 텍스트 파일에 추가"
   ]
  },
  {
   "cell_type": "code",
   "execution_count": null,
   "id": "888aac48-42bc-415e-ba4d-666f71434cf9",
   "metadata": {},
   "outputs": [],
   "source": [
    "# 사용자 사전에 추가할 단어 목록과 단어의 품사 및 점수를 각각 리스트로 생성합니다.\n",
    "words = ['더본', '골목식당', '빽다방', '홍콩반점', '짜장데이', '빽햄', '남극의 세프', '흑백 요리사', \n",
    "         '전문경영인', '장사꾼', '문어발', '골목상권', '소상공인']\n",
    "tags = ['NNP'] * 8 + ['NNG'] * 5\n",
    "scores = [1] * 13"
   ]
  },
  {
   "cell_type": "code",
   "execution_count": null,
   "id": "019fec0e-8ec7-428a-aacc-f73cc82053f0",
   "metadata": {},
   "outputs": [],
   "source": [
    "# 사용자 사전을 텍스트 파일로 저장합니다.\n",
    "# [참고] 단어, 품사, 점수 사이에 구분자(탭)를 설정하고 문장 마지막에 개행문자를 추가합니다.\n",
    "with open(file = dict_file, mode = 'a') as file:\n",
    "    for word, tag, score in zip(words, tags, scores):\n",
    "        file.write(f'{word}\\t{tag}\\t{score}\\n')"
   ]
  },
  {
   "cell_type": "code",
   "execution_count": null,
   "id": "77a92389-2938-4a8c-b0ed-97aed725a610",
   "metadata": {},
   "outputs": [],
   "source": [
    "# 사용자 사전에 등록할 텍스트 파일을 읽습니다.\n",
    "kiwi.load_user_dictionary(dict_path = dict_file)"
   ]
  },
  {
   "cell_type": "markdown",
   "id": "bbbebdec-ff2a-40e2-952b-23f32ef687f7",
   "metadata": {},
   "source": [
    "### BoW 생성: 사용자 사전 적용하여 형태소 분석 실행"
   ]
  },
  {
   "cell_type": "code",
   "execution_count": null,
   "id": "b87288a8-2229-469d-a791-0235e6633d38",
   "metadata": {},
   "outputs": [],
   "source": [
    "# 형태소 분석 결과를 저장할 빈 리스트를 생성합니다.\n",
    "morphs = []\n",
    "\n",
    "# 사용자 사전을 적용하여 문서 집합으로 형태소 분석을 실행하고 morphs를 생성합니다.\n",
    "for corrected in tqdm(newsReply['corrected']):\n",
    "    tokens = tokenizer(text = corrected)\n",
    "    morphs.append(tokens)"
   ]
  },
  {
   "cell_type": "code",
   "execution_count": null,
   "id": "94561b40-663e-42d0-bab7-f50b319a58d8",
   "metadata": {},
   "outputs": [],
   "source": [
    "# morphs(형태소로 나눈 문서 집합)의 처음 10개 원소를 확인합니다.\n",
    "for i in indices[0:10]:\n",
    "    print(f'{i}: {newsReply[\"corrected\"].iloc[i]}')\n",
    "    print(f'{i}: {morphs[i]}', end = '\\n\\n')"
   ]
  },
  {
   "cell_type": "markdown",
   "id": "c9fde44b-2908-4920-ad73-09804154e8f3",
   "metadata": {},
   "source": [
    "### morphs 원소 전처리"
   ]
  },
  {
   "cell_type": "code",
   "execution_count": null,
   "id": "b36efa35-4017-48b0-b542-65e6c3e35884",
   "metadata": {},
   "outputs": [],
   "source": [
    "# 형태소(단어)에 있는 공백을 제거하고 morphs에 재할당합니다.\n",
    "# [참고] 사용자 사전에 추가한 단어(남극의 세프, 흑백 요리사 등)에 공백이 있습니다.\n",
    "morphs = [[j.replace(' ', '') for j in i] for i in morphs]"
   ]
  },
  {
   "cell_type": "code",
   "execution_count": null,
   "id": "fd6355ab-525b-4b6f-b8d1-269afb7abfb1",
   "metadata": {},
   "outputs": [],
   "source": [
    "# morphs의 원소(리스트)를 하나의 문자열로 결합하고 corpus에 할당합니다.\n",
    "corpus = [' '.join(i) for i in morphs]"
   ]
  },
  {
   "cell_type": "code",
   "execution_count": null,
   "id": "2ca63d2b-9cfb-4454-9be2-21eebd42831f",
   "metadata": {},
   "outputs": [],
   "source": [
    "# corpus의 처음 10개 원소를 확인합니다.\n",
    "corpus[0:10]"
   ]
  },
  {
   "cell_type": "markdown",
   "id": "ce7147be-99eb-40d0-80f2-da825afaf821",
   "metadata": {},
   "source": [
    "### 문서-단어 행렬 생성"
   ]
  },
  {
   "cell_type": "code",
   "execution_count": null,
   "id": "395dcea1-40e0-4665-bfea-596dcae8e5ec",
   "metadata": {},
   "outputs": [],
   "source": [
    "# 단어 도수에 역 문서 도수(가중치)를 곱하는 객체를 생성합니다.\n",
    "tv = TfidfVectorizer(min_df = 0.001)"
   ]
  },
  {
   "cell_type": "code",
   "execution_count": null,
   "id": "f2b73de4-4eb7-4d1e-a459-9d67d6461927",
   "metadata": {},
   "outputs": [],
   "source": [
    "# TF-IDF를 성분으로 갖는 문서-단어 행렬을 생성합니다.\n",
    "dtm = tv.fit_transform(raw_documents = corpus).toarray()"
   ]
  },
  {
   "cell_type": "markdown",
   "id": "757e730c-646f-455f-8728-97a2847ab3a5",
   "metadata": {},
   "source": [
    "### 문서-단어 행렬 확인"
   ]
  },
  {
   "cell_type": "code",
   "execution_count": null,
   "id": "54d62bc7-e8e7-4d0c-9d7d-112e75074f11",
   "metadata": {},
   "outputs": [],
   "source": [
    "# dtm을 데이터프레임으로 변환합니다.\n",
    "dtm = pd.DataFrame(data = dtm, columns = tv.get_feature_names_out())"
   ]
  },
  {
   "cell_type": "code",
   "execution_count": null,
   "id": "636efe7a-2b71-4c9e-9266-32d601cdaedc",
   "metadata": {},
   "outputs": [],
   "source": [
    "# dtm의 처음 10행을 확인합니다.\n",
    "dtm.head(n = 10)"
   ]
  },
  {
   "cell_type": "code",
   "execution_count": null,
   "id": "d4c860c3-ef2d-477b-b0b6-99be43bc99ec",
   "metadata": {},
   "outputs": [],
   "source": [
    "# dtm의 행 개수와 열 개수를 확인합니다.\n",
    "dtm.shape"
   ]
  },
  {
   "cell_type": "code",
   "execution_count": null,
   "id": "066f6c53-d166-455d-a142-678e821a0eba",
   "metadata": {},
   "outputs": [],
   "source": [
    "# dtm의 단어별 도수 합계를 termFreqs에 할당합니다.\n",
    "termFreqs = dtm.sum().sort_values(ascending = False)"
   ]
  },
  {
   "cell_type": "code",
   "execution_count": null,
   "id": "f21db52f-f5f3-431e-8fbe-da814fe5ce3c",
   "metadata": {},
   "outputs": [],
   "source": [
    "# termFreqs의 처음 20행을 확인합니다.\n",
    "termFreqs.head(n = 20)"
   ]
  },
  {
   "cell_type": "markdown",
   "id": "4a99f1af-adfe-4577-a756-d87d4a4c8576",
   "metadata": {},
   "source": [
    "### 외부 파일로 저장"
   ]
  },
  {
   "cell_type": "code",
   "execution_count": null,
   "id": "7cfa8934-1e8d-423a-b7f9-bc1052e75383",
   "metadata": {},
   "outputs": [],
   "source": [
    "# morphs와 dtm을 pkl 파일로 저장합니다.\n",
    "pd.to_pickle(obj = [morphs, dtm], filepath_or_buffer = 'Text_Data_Prep.pkl')"
   ]
  },
  {
   "cell_type": "code",
   "execution_count": null,
   "id": "98e01106-aa50-40db-8337-fdab869f1928",
   "metadata": {},
   "outputs": [],
   "source": [
    "# 현재 작업 경로에 있는 폴더명과 파일명을 확인합니다.\n",
    "sorted(os.listdir())"
   ]
  },
  {
   "cell_type": "markdown",
   "id": "1b97a70f-7d25-43ed-8463-02419fbab620",
   "metadata": {},
   "source": [
    "## 데이터 시각화"
   ]
  },
  {
   "cell_type": "markdown",
   "id": "317a9022-6df6-4309-ab7b-697ffef6cf97",
   "metadata": {},
   "source": [
    "### 시각화 옵션 설정"
   ]
  },
  {
   "cell_type": "code",
   "execution_count": null,
   "id": "fe19de8c-f6bd-424c-b22f-d4dcab20703b",
   "metadata": {},
   "outputs": [],
   "source": [
    "# 관련 라이브러리를 호출합니다.\n",
    "import matplotlib.font_manager as fm\n",
    "import matplotlib.pyplot as plt\n",
    "import seaborn as sns\n",
    "from wordcloud import WordCloud"
   ]
  },
  {
   "cell_type": "code",
   "execution_count": null,
   "id": "18923171-26f5-46a5-a76c-e922f5238801",
   "metadata": {},
   "outputs": [],
   "source": [
    "# 현재 사용 중인 컴퓨터에 설치한 전체 폰트 파일명을 리스트로 반환합니다.\n",
    "fontList = fm.findSystemFonts(fontext = 'ttf')"
   ]
  },
  {
   "cell_type": "code",
   "execution_count": null,
   "id": "a2bd5056-7c04-42e9-883b-84bb5665a0ea",
   "metadata": {
    "scrolled": true
   },
   "outputs": [],
   "source": [
    "# fontList를 확인합니다.\n",
    "fontList"
   ]
  },
  {
   "cell_type": "code",
   "execution_count": null,
   "id": "d95f196b-39b3-4e49-a6fa-d2bc6d43cb00",
   "metadata": {},
   "outputs": [],
   "source": [
    "# fontList에서 특정 문자열(폰트명)을 포함하는 파일명을 선택합니다.\n",
    "fontPath = [font for font in fontList if 'Gowun' in font]"
   ]
  },
  {
   "cell_type": "code",
   "execution_count": null,
   "id": "3ebfa7b6-72a3-4c8b-bd26-59acd5242b17",
   "metadata": {},
   "outputs": [],
   "source": [
    "# fontPath를 확인합니다.\n",
    "fontPath"
   ]
  },
  {
   "cell_type": "code",
   "execution_count": null,
   "id": "b532de1b-43e1-458f-8fee-7c35a5f17128",
   "metadata": {},
   "outputs": [],
   "source": [
    "# for 반복문으로 컴퓨터에 설치한 폰트명을 출력합니다.\n",
    "for font in fontPath:\n",
    "    print(fm.FontProperties(fname = font).get_name())"
   ]
  },
  {
   "cell_type": "code",
   "execution_count": null,
   "id": "5eff22ad-eeea-4895-a8eb-903900e8dd67",
   "metadata": {},
   "outputs": [],
   "source": [
    "# 한글폰트와 글자 크기를 설정합니다.\n",
    "plt.rc(group = 'font', family = 'Gowun Batang', size = 10)"
   ]
  },
  {
   "cell_type": "code",
   "execution_count": null,
   "id": "b712a88b-0caa-4a77-9a99-dbe0af4cf019",
   "metadata": {},
   "outputs": [],
   "source": [
    "# 그래프 크기와 해상도를 설정합니다.\n",
    "plt.rc(group = 'figure', figsize = (12, 4), dpi = 150)"
   ]
  },
  {
   "cell_type": "markdown",
   "id": "d8e80199-9d0e-4f1f-a8ff-31303a3e51b1",
   "metadata": {},
   "source": [
    "### 워드 클라우드 시각화"
   ]
  },
  {
   "cell_type": "code",
   "execution_count": null,
   "id": "8eed0387-8b59-447a-8fd6-5416effbd556",
   "metadata": {},
   "outputs": [],
   "source": [
    "# 단어와 TF-IDF 합계를 저장할 빈 딕셔너리를 생성합니다.\n",
    "freq = dict()\n",
    "\n",
    "# for 반복문으로 워드 클라우드 시각화용 딕셔너리를 생성합니다.\n",
    "# [참고] 키는 단어, 값은 TF-IDF 합계입니다.\n",
    "for word in dtm.columns:\n",
    "    freq[word] = dtm[word].sum()"
   ]
  },
  {
   "cell_type": "code",
   "execution_count": null,
   "id": "130fa954-3359-4b85-8723-ffa1a4f91f32",
   "metadata": {},
   "outputs": [],
   "source": [
    "# 워드 클라우드 객체를 생성합니다.\n",
    "wc = WordCloud(\n",
    "    font_path = fontPath[1],\n",
    "    width = 800, \n",
    "    height = 800, \n",
    "    background_color = 'black', \n",
    "    colormap = 'Dark2'\n",
    ")"
   ]
  },
  {
   "cell_type": "code",
   "execution_count": null,
   "id": "30019cb6-84a2-4593-a5a7-c4cb46bc43fc",
   "metadata": {},
   "outputs": [],
   "source": [
    "# 워드 클라우드를 시각화합니다.\n",
    "plt.figure(figsize = (4, 4), dpi = 150)\n",
    "wcgf = wc.generate_from_frequencies(frequencies = freq)\n",
    "plt.imshow(X = wcgf)\n",
    "plt.axis('off')\n",
    "plt.show()"
   ]
  },
  {
   "cell_type": "markdown",
   "id": "1ad8ad69-09ee-44e9-a321-d347e89213fc",
   "metadata": {},
   "source": [
    "### 고빈도 단어 시각화"
   ]
  },
  {
   "cell_type": "code",
   "execution_count": null,
   "id": "cb85c9f7-d43d-41f9-8294-00f0024e46dc",
   "metadata": {},
   "outputs": [],
   "source": [
    "# 고빈도 상위 20개 단어를 막대 그래프로 시각화합니다.\n",
    "highFreqs = termFreqs.head(n = 20)\n",
    "sns.barplot(x = highFreqs.index, y = highFreqs.values, color = 'silver')\n",
    "plt.title(label = '고빈도 단어 목록(상위 10개)')\n",
    "plt.xlabel(xlabel = '고빈도 단어')\n",
    "plt.xlim(-1, 20)\n",
    "plt.ylim(0, highFreqs.max() * 1.2)\n",
    "plt.xticks(rotation = 90)\n",
    "for i, v in enumerate(highFreqs):\n",
    "    plt.text(x = i, y = v, s = f'{v:.1f}', ha = 'center', va = 'bottom', fontsize = 8);"
   ]
  },
  {
   "cell_type": "markdown",
   "id": "cabc3ea6-0757-41fb-8bc0-8f57eca186e9",
   "metadata": {},
   "source": [
    "### 연관 단어 시각화"
   ]
  },
  {
   "cell_type": "code",
   "execution_count": null,
   "id": "9d6932b6-d002-429b-a61d-d7e276375479",
   "metadata": {},
   "outputs": [],
   "source": [
    "# 단어 간 상관계수 행렬을 corMat에 할당합니다.\n",
    "# [참고] 열(차원) 개수가 많을수록 연산 시간이 길어집니다.\n",
    "corMat = dtm.corr().round(4)"
   ]
  },
  {
   "cell_type": "code",
   "execution_count": null,
   "id": "3f743692-07ee-4a08-a801-8c3051dfd850",
   "metadata": {},
   "outputs": [],
   "source": [
    "# corMat의 일부 행과 열을 확인합니다.\n",
    "corMat.iloc[0:10, 0:10]"
   ]
  },
  {
   "cell_type": "code",
   "execution_count": null,
   "id": "29f0c928-1166-44ca-930a-5c493572ee1b",
   "metadata": {},
   "outputs": [],
   "source": [
    "# 키워드의 연관 단어로 막대 그래프를 그리는 함수를 생성합니다.\n",
    "def plot_assocs(keyword, n = 20, pal = 'Reds_r'):\n",
    "    assocs = corMat[keyword].sort_values(ascending = False).head(n = n + 1).iloc[1:]\n",
    "    max_value = assocs.values.max()\n",
    "    sns.barplot(x = assocs.index, y = assocs.values, hue = assocs.index, palette = pal)\n",
    "    plt.title(label = '연관 단어 목록')\n",
    "    plt.xlabel(xlabel = '고빈도 단어')\n",
    "    plt.xlim(-1, 20)\n",
    "    plt.ylim(0, max_value * 1.2)\n",
    "    plt.xticks(rotation = 90)\n",
    "    for i, v in enumerate(assocs):\n",
    "        plt.text(x = i, y = v, s = f'{v:.2f}', ha = 'center', va = 'bottom', fontsize = 8)"
   ]
  },
  {
   "cell_type": "code",
   "execution_count": null,
   "id": "8d666add-7b08-4355-ba39-1a2182fa0533",
   "metadata": {},
   "outputs": [],
   "source": [
    "# 키워드의 연관 단어를 막대 그래프로 시각화합니다.\n",
    "plot_assocs(keyword = '백종원')"
   ]
  },
  {
   "cell_type": "code",
   "execution_count": null,
   "id": "c9533e7b-86d2-487d-8a48-cfc1310732aa",
   "metadata": {},
   "outputs": [],
   "source": [
    "# 키워드의 연관 단어를 막대 그래프로 시각화합니다.\n",
    "plot_assocs(keyword = '방송')"
   ]
  },
  {
   "cell_type": "code",
   "execution_count": null,
   "id": "594b5b76-4f5b-4cc8-a61d-8fe77e81d61a",
   "metadata": {},
   "outputs": [],
   "source": [
    "# 키워드의 연관 단어를 막대 그래프로 시각화합니다.\n",
    "plot_assocs(keyword = '사기')"
   ]
  },
  {
   "cell_type": "code",
   "execution_count": null,
   "id": "81c127d5-ed8d-4f26-9218-c3cbdc0fb1cb",
   "metadata": {},
   "outputs": [],
   "source": [
    "# 키워드의 연관 단어를 막대 그래프로 시각화합니다.\n",
    "plot_assocs(keyword = '장사꾼')"
   ]
  },
  {
   "cell_type": "markdown",
   "id": "e91f88dc-d259-48e5-854c-c2dd4bd25e2b",
   "metadata": {},
   "source": [
    "## End of Document"
   ]
  }
 ],
 "metadata": {
  "kernelspec": {
   "display_name": "Python 3 (ipykernel)",
   "language": "python",
   "name": "python3"
  },
  "language_info": {
   "codemirror_mode": {
    "name": "ipython",
    "version": 3
   },
   "file_extension": ".py",
   "mimetype": "text/x-python",
   "name": "python",
   "nbconvert_exporter": "python",
   "pygments_lexer": "ipython3",
   "version": "3.11.10"
  }
 },
 "nbformat": 4,
 "nbformat_minor": 5
}
