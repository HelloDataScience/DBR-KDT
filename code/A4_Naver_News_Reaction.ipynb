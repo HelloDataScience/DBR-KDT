{
 "cells": [
  {
   "cell_type": "markdown",
   "id": "882e0ea6-a618-4536-be6d-e92a2e7943d4",
   "metadata": {},
   "source": [
    "## 네이버 뉴스 반응 수집\n",
    "\n",
    "- 네이버뉴스 링크의 도메인에 따라 반응 수집 코드를 다르게 작성해야 함\n",
    "- 네이버뉴스 링크의 도메인에 따라 반응 세부 항목이 서로 다르므로 행 방향 결합이 어려움\n",
    "  - `https://n.news`로 시작하는 뉴스 반응은 '쏠쏠정보', '흥미진진', '공감백배', '분석탁월', '후속강추' 등 5개\n",
    "  - `https://m.sports`로 시작하는 뉴스 반응은 '좋아요', '슬퍼요', '화나요', '팬이에요', '후속기사 원해요' 등 5개\n",
    "  - `https://m.entertain`으로 시작하는 뉴스 반응은 '좋아요', '응원해요', '축하해요', '기대해요', '놀랐어요', '슬퍼요' 등 6개"
   ]
  },
  {
   "cell_type": "markdown",
   "id": "11c9cdab-429f-41ef-be38-22994478f5a6",
   "metadata": {},
   "source": [
    "### 데이터 준비"
   ]
  },
  {
   "cell_type": "code",
   "execution_count": null,
   "id": "2e44cad9-c47d-487c-bb5c-7df318790c0a",
   "metadata": {},
   "outputs": [],
   "source": [
    "# 관련 라이브러리를 호출합니다.\n",
    "import os\n",
    "import pandas as pd\n",
    "import numpy as np\n",
    "import requests\n",
    "from bs4 import BeautifulSoup as BTS\n",
    "import json\n",
    "import re"
   ]
  },
  {
   "cell_type": "code",
   "execution_count": null,
   "id": "e7744185",
   "metadata": {},
   "outputs": [],
   "source": [
    "# 현재 작업 경로를 확인합니다.\n",
    "os.getcwd()"
   ]
  },
  {
   "cell_type": "code",
   "execution_count": null,
   "id": "ccdf0bdd",
   "metadata": {},
   "outputs": [],
   "source": [
    "# data 폴더로 작업 경로를 변경합니다.\n",
    "os.chdir(path = '../data')"
   ]
  },
  {
   "cell_type": "code",
   "execution_count": null,
   "id": "5b75441b",
   "metadata": {},
   "outputs": [],
   "source": [
    "# 현재 작업 경로에 있는 폴더명과 파일명을 확인합니다.\n",
    "sorted(os.listdir())"
   ]
  },
  {
   "cell_type": "code",
   "execution_count": null,
   "id": "0a644c6d",
   "metadata": {},
   "outputs": [],
   "source": [
    "# pkl 파일을 읽고 newsLinks를 생성합니다.\n",
    "newsLinks = pd.read_pickle(filepath_or_buffer = 'Naver_News_Link.pkl')"
   ]
  },
  {
   "cell_type": "code",
   "execution_count": null,
   "id": "8428d654",
   "metadata": {},
   "outputs": [],
   "source": [
    "# newsLinks의 처음 5행을 확인합니다.\n",
    "newsLinks.head()"
   ]
  },
  {
   "cell_type": "code",
   "execution_count": null,
   "id": "f6a136a0",
   "metadata": {},
   "outputs": [],
   "source": [
    "# newsLinks에서 Domain의 도수를 확인합니다.\n",
    "newsLinks.str.extract(pat = '(https://.+?(?=/article))').value_counts()"
   ]
  },
  {
   "cell_type": "markdown",
   "id": "27fddde0",
   "metadata": {},
   "source": [
    "### 뉴스 반응 수집 함수 생성"
   ]
  },
  {
   "cell_type": "code",
   "execution_count": null,
   "id": "4db9cf27-2884-491c-a508-1fba2dce02ff",
   "metadata": {},
   "outputs": [],
   "source": [
    "# Domain에 따라 뉴스 반응을 수집하는 함수를 생성합니다.\n",
    "def NaverNewsReact(link):\n",
    "    \n",
    "    # newsLinks에서 cid(company id)와 aid(article id)를 추출합니다.\n",
    "    cid = re.findall(pattern = r'(?<=article/)(\\d+)', string = link)[0]\n",
    "    aid = re.findall(pattern = r'(?<=\\d/)(\\d+$)', string = link)[0]\n",
    "\n",
    "    # 요청 헤더를 설정합니다.\n",
    "    # [참고] referer에 네이버뉴스 링크를 지정합니다.\n",
    "    headers = {\n",
    "        'content-type': 'application/javascript;charset=UTF-8', \n",
    "        'referer': link, \n",
    "        'user-agent': 'Mozilla/5.0'\n",
    "    }\n",
    "\n",
    "    # 요청 URL과 쿼리 문자열을 설정합니다.\n",
    "    if link.startswith('https://n.news'):\n",
    "        url = 'https://news.like.naver.com/v1/search/contents'\n",
    "        query = {\n",
    "            'suppress_response_codes': 'true',\n",
    "            'q': f'NEWS[ne_{cid}_{aid}]',\n",
    "            'isDuplication': 'false',\n",
    "            'cssIds': 'MULTI_MOBILE,NEWS_MOBILE'\n",
    "        }\n",
    "    elif link.startswith('https://m.sports'):\n",
    "        url = 'https://apis.naver.com/sports/like/v1/search/contents'\n",
    "        query = {\n",
    "            'q': f'SPORTS[ne_{cid}_{aid}]',\n",
    "            '_method': 'GET',\n",
    "            'suppress_response_codes': 'true'\n",
    "        }\n",
    "    elif link.startswith('https://m.entertain'):\n",
    "        url = 'https://news.like.naver.com/v1/search/contents'\n",
    "        query = {\n",
    "            'q': f'ENTERTAIN[ne_{cid}_{aid}]',\n",
    "            '_method': 'GET',\n",
    "            'suppress_response_codes': 'true'\n",
    "        }\n",
    "\n",
    "    # HTTP 요청을 실행합니다.\n",
    "    res = requests.get(url = url, params = query, headers = headers)\n",
    "\n",
    "    # JSON 형태의 문자열을 딕셔너리로 변환합니다.\n",
    "    dat = json.loads(s = res.text)\n",
    "\n",
    "    # 뉴스 반응 개수를 데이터프레임으로 변환합니다.\n",
    "    reactCnt = pd.DataFrame(data = dat['contents'][0]['reactions'])\n",
    "    \n",
    "    # reactCnt의 첫 번째 열로 'nlink'를 추가합니다.\n",
    "    reactCnt.insert(loc = 0, column = 'nlink', value = link)\n",
    "    \n",
    "    # reactCnt(Long Type)를 Wide Type으로 변환하고 reactCnt에 재할당합니다.\n",
    "    reactCnt = reactCnt.pivot(index = 'nlink', columns = 'reactionType', values = 'count')\n",
    "    \n",
    "    # reactCnt의 행이름 초기화하고 reactCnt에 재할당합니다.\n",
    "    reactCnt = reactCnt.reset_index()\n",
    "    \n",
    "    # reactCnt에서 열이름 네임을 삭제합니다.\n",
    "    reactCnt.columns.name = None\n",
    "    \n",
    "    # reactCnt를 반환합니다.\n",
    "    return reactCnt"
   ]
  },
  {
   "cell_type": "code",
   "execution_count": null,
   "id": "0ffcef2b-7004-4be5-a5f2-bd914a32a4b7",
   "metadata": {},
   "outputs": [],
   "source": [
    "# 첫 번째 네이버뉴스 링크를 출력합니다.\n",
    "print(newsLinks.iloc[0])"
   ]
  },
  {
   "cell_type": "code",
   "execution_count": null,
   "id": "0c21de74-abc7-4a75-97e5-8f1113232a80",
   "metadata": {},
   "outputs": [],
   "source": [
    "# 첫 번째 네이버뉴스 링크로 반응 개수를 수집합니다.\n",
    "NaverNewsReact(link = newsLinks.iloc[0])"
   ]
  },
  {
   "cell_type": "markdown",
   "id": "3f6e1da8",
   "metadata": {},
   "source": [
    "## End of Document"
   ]
  }
 ],
 "metadata": {
  "kernelspec": {
   "display_name": "Python 3 (ipykernel)",
   "language": "python",
   "name": "python3"
  },
  "language_info": {
   "codemirror_mode": {
    "name": "ipython",
    "version": 3
   },
   "file_extension": ".py",
   "mimetype": "text/x-python",
   "name": "python",
   "nbconvert_exporter": "python",
   "pygments_lexer": "ipython3",
   "version": "3.11.10"
  }
 },
 "nbformat": 4,
 "nbformat_minor": 5
}
