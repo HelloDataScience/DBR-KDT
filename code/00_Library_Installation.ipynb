{
 "cells": [
  {
   "cell_type": "markdown",
   "id": "973c44de",
   "metadata": {},
   "source": [
    "## 라이브러리 설치"
   ]
  },
  {
   "cell_type": "code",
   "execution_count": null,
   "id": "be108a7c",
   "metadata": {
    "scrolled": true
   },
   "outputs": [],
   "source": [
    "# 관련 라이브러리를 설치합니다.\n",
    "# [참고] 맨 처음 한 번만 실행합니다.\n",
    "!pip install pandas openpyxl xlrd pyarrow bs4 selenium xmltodict \n",
    "!pip install kiwipiepy nltk scikit-learn transformers torch protobuf sentencepiece\n",
    "!pip install seaborn wordcloud gensim pyldavis"
   ]
  },
  {
   "cell_type": "code",
   "execution_count": null,
   "id": "0343cde6",
   "metadata": {
    "scrolled": true
   },
   "outputs": [],
   "source": [
    "# 설치한 라이브러리 목록을 확인합니다.\n",
    "!pip list"
   ]
  },
  {
   "cell_type": "markdown",
   "id": "9571348a",
   "metadata": {},
   "source": [
    "## End of Document"
   ]
  }
 ],
 "metadata": {
  "kernelspec": {
   "display_name": "Python 3 (ipykernel)",
   "language": "python",
   "name": "python3"
  },
  "language_info": {
   "codemirror_mode": {
    "name": "ipython",
    "version": 3
   },
   "file_extension": ".py",
   "mimetype": "text/x-python",
   "name": "python",
   "nbconvert_exporter": "python",
   "pygments_lexer": "ipython3",
   "version": "3.11.10"
  }
 },
 "nbformat": 4,
 "nbformat_minor": 5
}
