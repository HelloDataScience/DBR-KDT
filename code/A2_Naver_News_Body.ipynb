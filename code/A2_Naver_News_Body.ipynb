{
 "cells": [
  {
   "cell_type": "markdown",
   "id": "bb985250",
   "metadata": {},
   "source": [
    "## 네이버 뉴스 본문 수집\n",
    "\n",
    "- 네이버뉴스 링크의 도메인에 따라 본문 수집 코드를 다르게 작성해야 함\n",
    "  - `https://n.news`로 시작하는 뉴스 본문은 nlink로 HTTP 요청 실행\n",
    "  - `https://m.sports`로 시작하는 뉴스 본문은 `https://api-gw.sports`로 변경해야 함\n",
    "  - `https://m.entertain`으로 시작하는 뉴스 본문은 `https://api-gw.entertain`으로 변경해야 함"
   ]
  },
  {
   "cell_type": "markdown",
   "id": "46d7d5a0-acb5-4983-81bf-f7c1f78efd2a",
   "metadata": {},
   "source": [
    "### 데이터 준비"
   ]
  },
  {
   "cell_type": "code",
   "execution_count": null,
   "id": "d2ae27c4",
   "metadata": {},
   "outputs": [],
   "source": [
    "# 관련 라이브러리를 호출합니다.\n",
    "import os\n",
    "import pandas as pd\n",
    "import numpy as np\n",
    "import requests\n",
    "from bs4 import BeautifulSoup as BTS\n",
    "import json\n",
    "import re\n",
    "import time\n",
    "from tqdm.notebook import tqdm"
   ]
  },
  {
   "cell_type": "code",
   "execution_count": null,
   "id": "ece8c702",
   "metadata": {},
   "outputs": [],
   "source": [
    "# 현재 작업 경로를 확인합니다.\n",
    "os.getcwd()"
   ]
  },
  {
   "cell_type": "code",
   "execution_count": null,
   "id": "0d419f61",
   "metadata": {},
   "outputs": [],
   "source": [
    "# data 폴더로 작업 경로를 변경합니다.\n",
    "os.chdir(path = '../data')"
   ]
  },
  {
   "cell_type": "code",
   "execution_count": null,
   "id": "416ec308",
   "metadata": {},
   "outputs": [],
   "source": [
    "# 현재 작업 경로에 있는 폴더명과 파일명을 확인합니다.\n",
    "sorted(os.listdir())"
   ]
  },
  {
   "cell_type": "code",
   "execution_count": null,
   "id": "03b4fb1c",
   "metadata": {},
   "outputs": [],
   "source": [
    "# pkl 파일을 읽고 newsLinks를 생성합니다.\n",
    "newsLinks = pd.read_pickle(filepath_or_buffer = 'Naver_News_Link.pkl')"
   ]
  },
  {
   "cell_type": "code",
   "execution_count": null,
   "id": "49c2efb8-d5d8-4916-a7bd-a0a5a68d4e2e",
   "metadata": {},
   "outputs": [],
   "source": [
    "# newsLinks에서 Domain의 도수를 확인합니다.\n",
    "newsLinks.str.extract(pat = '(https://.+?(?=/article))').value_counts()"
   ]
  },
  {
   "cell_type": "markdown",
   "id": "84df15c9-dd63-46e0-bddc-f9b81cdb6527",
   "metadata": {},
   "source": [
    "### 함수 생성"
   ]
  },
  {
   "cell_type": "code",
   "execution_count": null,
   "id": "1742c0d7",
   "metadata": {},
   "outputs": [],
   "source": [
    "# 네이버뉴스 링크로 HTTP 요청을 실행하고 뉴스 본문을 반환하는 함수를 생성합니다.\n",
    "def NaverNewsBody(nlink):\n",
    "    \n",
    "    # nlink에 따라 HTTP 요청 실행 및 응답 바디 문자열을 처리하는 코드를 분기합니다.\n",
    "    if 'https://n.news' in nlink:\n",
    "        \n",
    "        # 네이버뉴스 링크로 HTTP 요청을 실행합니다.\n",
    "        res = requests.get(url = nlink)\n",
    "        \n",
    "        # HTTP 응답 바디 문자열을 bs4.BeautifulSoup 객체로 변환합니다.\n",
    "        soup = BTS(markup = res.text, features = 'html.parser')\n",
    "        \n",
    "        # soup에서 뉴스 본문을 포함하는 HTML 요소를 선택합니다.\n",
    "        item = soup.select_one(selector = '#dic_area, div._article_content')\n",
    "        \n",
    "        # item의 텍스트를 반환합니다.\n",
    "        # [참고] strip()은 문자열 양 옆에 있는 공백을 모두 제거합니다.\n",
    "        return item.text.strip()\n",
    "    \n",
    "    elif 'https://m' in nlink:\n",
    "        \n",
    "        # 'https://m'으로 시작하는 nlink의 일부 문자열을 변경한 url을 생성합니다.\n",
    "        url = re.sub(pattern = 'https://m.(sports|entertain).naver.com(.+)?(?=/article)', \n",
    "                     repl = r'https://api-gw.\\1.naver.com/news', \n",
    "                     string = nlink)\n",
    "        \n",
    "        # url로 HTTP 요청을 실행합니다.\n",
    "        res = requests.get(url = url)\n",
    "        \n",
    "        # JSON 형태의 문자열을 딕셔너리로 변환합니다.\n",
    "        dat = json.loads(s = res.text)\n",
    "        \n",
    "        # 뉴스 본문을 문자열로 반환합니다.\n",
    "        return dat['result']['articleInfo']['article']['content']"
   ]
  },
  {
   "cell_type": "markdown",
   "id": "d2c57e36-bef6-46f3-b0a2-13e1926e4e23",
   "metadata": {},
   "source": [
    "### 데이터 수집"
   ]
  },
  {
   "cell_type": "code",
   "execution_count": null,
   "id": "aaea8913",
   "metadata": {},
   "outputs": [],
   "source": [
    "# 경고를 출력하지 않도록 설정합니다.\n",
    "import warnings\n",
    "warnings.filterwarnings(action = 'ignore')"
   ]
  },
  {
   "cell_type": "code",
   "execution_count": null,
   "id": "ad387724",
   "metadata": {},
   "outputs": [],
   "source": [
    "# 반복 실행할 횟수를 n에 할당합니다.\n",
    "n = len(newsLinks)\n",
    "\n",
    "# 뉴스 본문을 저장할 시리즈를 생성합니다.\n",
    "newsTexts = pd.Series(data = [np.nan] * n, dtype = str)\n",
    "\n",
    "# for 반복문으로 네이버뉴스 본문을 수집합니다.\n",
    "for i in tqdm(range(n)):\n",
    "    \n",
    "    # 네이버뉴스 링크로 뉴스 본문을 수집하고 newsTexts에 i번째 원소로 할당합니다.\n",
    "    newsTexts.iloc[i] = NaverNewsBody(nlink = newsLinks.iloc[i])\n",
    "    \n",
    "    # 1초간 멈춥니다.\n",
    "    time.sleep(1)"
   ]
  },
  {
   "cell_type": "code",
   "execution_count": null,
   "id": "a15c3b59",
   "metadata": {},
   "outputs": [],
   "source": [
    "# newsTexts의 처음 5행을 확인합니다.\n",
    "newsTexts.head()"
   ]
  },
  {
   "cell_type": "markdown",
   "id": "647a0783-2141-48a9-b9b3-faef83782861",
   "metadata": {},
   "source": [
    "### 데이터 전처리"
   ]
  },
  {
   "cell_type": "code",
   "execution_count": null,
   "id": "64574de8-038e-425f-ab27-2dcb257337d8",
   "metadata": {},
   "outputs": [],
   "source": [
    "# newsTexts에서 title=\"한글\" 패턴이 있는지 확인합니다.\n",
    "newsTexts.str.contains(pat = '(title=\"[가-힣 ]+\")').sum()"
   ]
  },
  {
   "cell_type": "code",
   "execution_count": null,
   "id": "8ea39e46-f524-4b58-a87b-4659d593a13f",
   "metadata": {},
   "outputs": [],
   "source": [
    "# newsTexts에서 title=\"한글\" 패턴을 추출하고 도수를 확인합니다.\n",
    "newsTexts.str.extractall(pat = '(title=\"[가-힣 ]+\")')[0].value_counts()"
   ]
  },
  {
   "cell_type": "code",
   "execution_count": null,
   "id": "7045c858-a170-474c-8458-147ebf920e5f",
   "metadata": {},
   "outputs": [],
   "source": [
    "# newsTexts에서 title=\"한글\" 패턴을 삭제하고 newsTexts에 재할당합니다.\n",
    "newsTexts = newsTexts.str.replace(pat = '(title=\"[가-힣 ]+\")', repl = '', regex = True)"
   ]
  },
  {
   "cell_type": "code",
   "execution_count": null,
   "id": "5959ca80-9b92-45be-a09f-4f42fd084cfe",
   "metadata": {},
   "outputs": [],
   "source": [
    "# newsTexts에서 HTML 요소 문자열이 있는지 확인합니다.\n",
    "# [참고] 뉴스 본문에서 제목 등을 강조하기 위해 꺽쇠 괄호로 묶는 경우가 있습니다.\n",
    "newsTexts.str.contains(pat = '(<[^가-힣]+?>)').sum()"
   ]
  },
  {
   "cell_type": "code",
   "execution_count": null,
   "id": "112cd4e4-4e96-4e76-883e-87f6b03dd9a1",
   "metadata": {},
   "outputs": [],
   "source": [
    "# newsTexts에서 HTML 요소 문자열을 추출하고 도수를 확인합니다.\n",
    "newsTexts.str.extractall(pat = '(<[^가-힣]+?>)')[0].value_counts()"
   ]
  },
  {
   "cell_type": "code",
   "execution_count": null,
   "id": "384a8a1a",
   "metadata": {},
   "outputs": [],
   "source": [
    "# newsTexts에서 HTML 요소 문자열을 삭제하고 newsTexts에 재할당합니다.\n",
    "newsTexts = newsTexts.str.replace(pat = '(<[^가-힣]+?>)', repl = '', regex = True)"
   ]
  },
  {
   "cell_type": "code",
   "execution_count": null,
   "id": "deda3ee0",
   "metadata": {},
   "outputs": [],
   "source": [
    "# newsTexts의 처음 5행을 확인합니다.\n",
    "newsTexts.head()"
   ]
  },
  {
   "cell_type": "markdown",
   "id": "cc992b0a-ad6c-405d-8f82-ff7c66cea755",
   "metadata": {},
   "source": [
    "### 외부 파일로 저장"
   ]
  },
  {
   "cell_type": "code",
   "execution_count": null,
   "id": "8cd65a70",
   "metadata": {},
   "outputs": [],
   "source": [
    "# 현재 작업 경로를 확인합니다.\n",
    "os.getcwd()"
   ]
  },
  {
   "cell_type": "code",
   "execution_count": null,
   "id": "425e6730",
   "metadata": {},
   "outputs": [],
   "source": [
    "# newsTexts를 pkl 파일로 저장합니다.\n",
    "pd.to_pickle(obj = newsTexts, filepath_or_buffer = 'Naver_News_Text.pkl')"
   ]
  },
  {
   "cell_type": "code",
   "execution_count": null,
   "id": "eac9c0a5",
   "metadata": {},
   "outputs": [],
   "source": [
    "# 현재 작업 경로에 있는 폴더명과 파일명을 확인합니다.\n",
    "sorted(os.listdir())"
   ]
  },
  {
   "cell_type": "markdown",
   "id": "fbd83b39",
   "metadata": {},
   "source": [
    "## End of Document"
   ]
  }
 ],
 "metadata": {
  "kernelspec": {
   "display_name": "Python 3 (ipykernel)",
   "language": "python",
   "name": "python3"
  },
  "language_info": {
   "codemirror_mode": {
    "name": "ipython",
    "version": 3
   },
   "file_extension": ".py",
   "mimetype": "text/x-python",
   "name": "python",
   "nbconvert_exporter": "python",
   "pygments_lexer": "ipython3",
   "version": "3.11.10"
  }
 },
 "nbformat": 4,
 "nbformat_minor": 5
}
