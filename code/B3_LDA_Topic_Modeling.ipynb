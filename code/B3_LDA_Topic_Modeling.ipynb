{
 "cells": [
  {
   "cell_type": "markdown",
   "id": "eab063eb-460c-44c4-aae4-a656f9fe9f5f",
   "metadata": {},
   "source": [
    "## LDA 토픽 모델링"
   ]
  },
  {
   "cell_type": "markdown",
   "id": "9ac9b46c-2b42-4810-96cc-965166911807",
   "metadata": {},
   "source": [
    "### 데이터 준비"
   ]
  },
  {
   "cell_type": "code",
   "execution_count": 1,
   "id": "bb48350e-832d-4ff5-a34f-66201945e61d",
   "metadata": {},
   "outputs": [],
   "source": [
    "# 관련 라이브러리를 호출합니다.\n",
    "import os\n",
    "import numpy as np\n",
    "import pandas as pd\n",
    "from gensim import corpora \n",
    "from gensim import models\n",
    "from gensim.models import CoherenceModel\n",
    "import pyLDAvis.gensim_models"
   ]
  },
  {
   "cell_type": "code",
   "execution_count": 2,
   "id": "b59058cb-1198-467e-a107-a8d6e6cfc815",
   "metadata": {},
   "outputs": [
    {
     "data": {
      "text/plain": [
       "'/Users/seonghona/Documents/Lectures/Customer/Archive/DBR_Project/code'"
      ]
     },
     "execution_count": 2,
     "metadata": {},
     "output_type": "execute_result"
    }
   ],
   "source": [
    "# 현재 작업 경로를 확인합니다.\n",
    "os.getcwd()"
   ]
  },
  {
   "cell_type": "code",
   "execution_count": 3,
   "id": "015aba66-f347-4a60-9917-5c745c585c96",
   "metadata": {},
   "outputs": [],
   "source": [
    "# data 폴더로 작업 경로를 변경합니다.\n",
    "os.chdir(path = '../data')"
   ]
  },
  {
   "cell_type": "code",
   "execution_count": 4,
   "id": "182cb0a5-e55c-4d2a-b457-f329e6d82665",
   "metadata": {},
   "outputs": [
    {
     "data": {
      "text/plain": [
       "['LDA.html',\n",
       " 'Naver_News_Link.pkl',\n",
       " 'Naver_News_ReCnt.pkl',\n",
       " 'Naver_News_Reply.pkl',\n",
       " 'Naver_News_Text.pkl',\n",
       " 'Text_Data_Prep.pkl',\n",
       " 'User_Dictionary.txt']"
      ]
     },
     "execution_count": 4,
     "metadata": {},
     "output_type": "execute_result"
    }
   ],
   "source": [
    "# 현재 작업 경로에 있는 폴더명과 파일명을 확인합니다.\n",
    "sorted(os.listdir())"
   ]
  },
  {
   "cell_type": "code",
   "execution_count": 5,
   "id": "b957d135-c2b7-47b2-bb5a-722e5a6b1bbb",
   "metadata": {},
   "outputs": [],
   "source": [
    "# pkl 파일을 읽고 morphs와 dtm을 생성합니다.\n",
    "# [참고] pkl 파일로 저장할 때 지정한 파이썬 객체의 개수만큼 변수를 지정해야 합니다.\n",
    "morphs, dtm = pd.read_pickle(filepath_or_buffer = 'Text_Data_Prep.pkl')"
   ]
  },
  {
   "cell_type": "code",
   "execution_count": 6,
   "id": "2da58e34-2b37-4537-bbb3-f516fc18061c",
   "metadata": {},
   "outputs": [
    {
     "name": "stdout",
     "output_type": "stream",
     "text": [
      "0: ['백종원', '싫어하다', '백종원', '까이', '있다', '보이다']\n",
      "\n",
      "1: ['정도', '뒤', '성질', '부리다', '다니다', '생각', '이상']\n",
      "\n",
      "2: ['빽', '잘나다', '알다', '죽이다', '안달', '주가', '조작', '악재', '퍼뜨리다', '곳', '천지', '맘', '죽이다']\n",
      "\n",
      "3: ['언론', '문제', '키우다', '마녀사냥', '지금', '헐뜯다', '악의적', '기사', '인', '이미지', '추락', '지', '밥벌이', '이용', '기자', '가다', '행사장', '취재', '다니다', '위생', '관련', '백종원', '그렇다', '마녀사냥', '죽이다', '옮기다', '문제', '대한민국', '언론', '문제', '부모', '자식', '부끄럽다', '모범', '사회', '언론', '바라다']\n",
      "\n",
      "4: ['더본코리아', '죽이다', '중국', '자본', '요식업', '기업', '들어오다']\n",
      "\n",
      "5: ['악의적', '패다', '팩트', '백종원', '식당', '동네', '배달', '마라탕', '집', '배', '비위생']\n",
      "\n",
      "6: ['요리', '자', '모르다', '자', '정식', '배우다', '기웃거리다', '운', '맞다', '대박', '치다', '백', '양심', '우선']\n",
      "\n",
      "7: ['스토커', '수준', '정도', '업무방해']\n",
      "\n",
      "8: ['잡다', '보도', '알다', '시정', '조치', '자발적', '개선', '시간', '주다', '회사', '망하다', '죽다']\n",
      "\n",
      "9: ['백종원', '기자', '시', '물다', '뜯다', '망하다', '기세', '이러다', '망하다']\n",
      "\n"
     ]
    }
   ],
   "source": [
    "# morphs의 처음 10개 원소를 출력합니다.\n",
    "for i in range(10):\n",
    "    print(f'{i}: {morphs[i]}', end = '\\n\\n')"
   ]
  },
  {
   "cell_type": "markdown",
   "id": "67ae6715-87de-4c1c-8d8e-ef896e613061",
   "metadata": {},
   "source": [
    "### LDA 모델 생성"
   ]
  },
  {
   "cell_type": "code",
   "execution_count": 7,
   "id": "6e709a7c-436d-4199-8bda-914cbad33512",
   "metadata": {},
   "outputs": [],
   "source": [
    "# morphs의 원소에서 dtm의 열이름에 있는 단어만 남겨서 LDA용 문서 리스트를 생성합니다.\n",
    "# [참고] morphs의 원소는 리스트입니다.\n",
    "documents = [[term for term in morph if term in dtm.columns] for morph in morphs]"
   ]
  },
  {
   "cell_type": "code",
   "execution_count": 8,
   "id": "5cb26387-4b06-498d-a9fb-9063202ef34a",
   "metadata": {},
   "outputs": [],
   "source": [
    "# LDA용 문서 리스트로 사전을 생성합니다.\n",
    "dictionary = corpora.Dictionary(documents = documents)"
   ]
  },
  {
   "cell_type": "code",
   "execution_count": 9,
   "id": "114024a9-32f2-455c-89cb-aebca8bcf1a3",
   "metadata": {},
   "outputs": [
    {
     "data": {
      "text/plain": [
       "1003"
      ]
     },
     "execution_count": 9,
     "metadata": {},
     "output_type": "execute_result"
    }
   ],
   "source": [
    "# 사전에 포함된 단어 개수를 확인합니다.\n",
    "# [참고] dictionary의 단어 개수는 dtm의 열 개수와 같아야 합니다.\n",
    "len(dictionary)"
   ]
  },
  {
   "cell_type": "code",
   "execution_count": 10,
   "id": "61245a1b-18ac-489b-939e-f4dcbccc2641",
   "metadata": {},
   "outputs": [],
   "source": [
    "# 사전으로 LDA용 말뭉치를 생성합니다.\n",
    "corpus4LDA = [dictionary.doc2bow(document = document) for document in documents]"
   ]
  },
  {
   "cell_type": "code",
   "execution_count": 11,
   "id": "6dc0aa9f-353f-4646-9061-bd249c2f0d55",
   "metadata": {},
   "outputs": [],
   "source": [
    "# 토픽 개수(k)를 설정합니다.\n",
    "topic_nums = 5"
   ]
  },
  {
   "cell_type": "code",
   "execution_count": 12,
   "id": "8856f0e9-0120-46ca-bfc5-20020da6fb24",
   "metadata": {},
   "outputs": [],
   "source": [
    "# LDA 모델을 생성합니다.\n",
    "LDAmodel = models.ldamodel.LdaModel(\n",
    "    corpus = corpus4LDA, \n",
    "    num_topics = topic_nums, \n",
    "    id2word = dictionary, \n",
    "    random_state = 0\n",
    ")"
   ]
  },
  {
   "cell_type": "markdown",
   "id": "00227d2e-c98a-48d0-83ce-ef57671524d6",
   "metadata": {},
   "source": [
    "### LDA 모델 시각화"
   ]
  },
  {
   "cell_type": "code",
   "execution_count": 13,
   "id": "1393f355-b6fd-4786-9b43-fe5784f3346f",
   "metadata": {},
   "outputs": [],
   "source": [
    "# 경고를 출력하지 않도록 설정합니다.\n",
    "import warnings\n",
    "warnings.filterwarnings(action = 'ignore')"
   ]
  },
  {
   "cell_type": "code",
   "execution_count": 14,
   "id": "c5537d70-7d5b-411b-a0b8-8eb2c07e0675",
   "metadata": {},
   "outputs": [],
   "source": [
    "# LDA 모델 시각화 객체를 생성합니다.\n",
    "LDAvis = pyLDAvis.gensim_models.prepare(\n",
    "    topic_model = LDAmodel, \n",
    "    corpus = corpus4LDA, \n",
    "    dictionary = dictionary\n",
    ")"
   ]
  },
  {
   "cell_type": "raw",
   "id": "b8d9fa75-28f2-4e9c-9474-da79c4d50ca8",
   "metadata": {},
   "source": [
    "# 주피터 노트북에서 LDA 모델을 시각화할 수 있도록 설정합니다.\n",
    "pyLDAvis.enable_notebook()"
   ]
  },
  {
   "cell_type": "raw",
   "id": "7d1b9e58-aafa-481d-b0aa-7a285cda538a",
   "metadata": {},
   "source": [
    "# LDA 모델을 시각화합니다.\n",
    "# [참고] LDA 모델을 주피터 노트북에서 시각화하면 오른쪽 끝 부분이 잘립니다.\n",
    "pyLDAvis.display(data = LDAvis)"
   ]
  },
  {
   "cell_type": "code",
   "execution_count": 15,
   "id": "6275d2d4-27a1-4af2-b13e-6525e0a1a6ec",
   "metadata": {},
   "outputs": [],
   "source": [
    "# LDA 모델 시각화 객체를 html 파일로 저장합니다.\n",
    "# [참고] 탐색기 또는 파인더에서 html을 더블클릭하면 웹 브라우저에서 열립니다.\n",
    "pyLDAvis.save_html(data = LDAvis, fileobj = 'LDA.html')"
   ]
  },
  {
   "cell_type": "code",
   "execution_count": 16,
   "id": "29e54230-0810-412f-8a5d-75a407dc1d4a",
   "metadata": {},
   "outputs": [
    {
     "data": {
      "text/plain": [
       "['LDA.html',\n",
       " 'Naver_News_Link.pkl',\n",
       " 'Naver_News_ReCnt.pkl',\n",
       " 'Naver_News_Reply.pkl',\n",
       " 'Naver_News_Text.pkl',\n",
       " 'Text_Data_Prep.pkl',\n",
       " 'User_Dictionary.txt']"
      ]
     },
     "execution_count": 16,
     "metadata": {},
     "output_type": "execute_result"
    }
   ],
   "source": [
    "# 현재 작업 경로에 있는 폴더명과 파일명을 확인합니다.\n",
    "sorted(os.listdir())"
   ]
  },
  {
   "cell_type": "markdown",
   "id": "3a773bf4-e396-4784-8737-2406912798ac",
   "metadata": {},
   "source": [
    "## End of Document"
   ]
  }
 ],
 "metadata": {
  "kernelspec": {
   "display_name": "Python 3 (ipykernel)",
   "language": "python",
   "name": "python3"
  },
  "language_info": {
   "codemirror_mode": {
    "name": "ipython",
    "version": 3
   },
   "file_extension": ".py",
   "mimetype": "text/x-python",
   "name": "python",
   "nbconvert_exporter": "python",
   "pygments_lexer": "ipython3",
   "version": "3.11.10"
  }
 },
 "nbformat": 4,
 "nbformat_minor": 5
}
